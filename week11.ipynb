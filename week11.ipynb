{
 "cells": [
  {
   "cell_type": "code",
   "execution_count": 5,
   "id": "686e7dfc-b589-4f90-91cc-9a47217927eb",
   "metadata": {},
   "outputs": [
    {
     "name": "stdout",
     "output_type": "stream",
     "text": [
      "Input: \n",
      "[[2 9]\n",
      " [1 5]\n",
      " [3 6]]\n",
      "Actual Output: \n",
      "[[0.92]\n",
      " [0.86]\n",
      " [0.89]]\n",
      "Predicted Output: \n",
      " [[0.78676139]\n",
      " [0.77173795]\n",
      " [0.78536443]]\n"
     ]
    }
   ],
   "source": [
    "import numpy as np\n",
    "X = np.array(([2,9],[1,5],[3,6])) #Hours Studied,Hours Slept\n",
    "y=np.array(([92],[86],[89])) #Test Score\n",
    "\n",
    "y=y/100 #Max Test Score is 100\n",
    "\n",
    "#Sigmoid Function\n",
    "def sigmoid(x):\n",
    "  return 1/(1+ np.exp(-x))\n",
    "\n",
    "#Derivatives of Sigmoid function\n",
    "def derivatives_sigmoid(x):\n",
    "  return x*(1-x)\n",
    "#Variable initialization\n",
    "epoch=10000 #Setting training iterations\n",
    "lr=0.1 #Setting learning rate\n",
    "inputlayer_neurons = 2 #number of features in data set\n",
    "hiddenlayers_neurons = 3 #number of hidden layers neurons\n",
    "output_neurons = 1 #number of neurons of output layer\n",
    "\n",
    "#weight and bias initialization\n",
    "wh=np.random.uniform(size=(inputlayer_neurons,hiddenlayers_neurons))\n",
    "bias_hidden=np.random.uniform(size=(1,hiddenlayers_neurons))  #bias matrix to the hidden layer\n",
    "weight_hidden=np.random.uniform(size=(hiddenlayers_neurons,output_neurons)) #weight matrix to the output layer\n",
    "bias_output=np.random.uniform(size=(1,output_neurons)) #matrix to output layer\n",
    "\n",
    "for i in range(epoch):\n",
    "  hinp1=np.dot(X,wh)\n",
    "  hinp=hinp1+ bias_hidden\n",
    "  hlayer_activation = sigmoid(hinp)\n",
    "\n",
    "  outinp1=np.dot(hlayer_activation,weight_hidden)\n",
    "  outinp = outinp1+bias_output\n",
    "  output = sigmoid(outinp)\n",
    "\n",
    "EO = y-output\n",
    "outgrad=derivatives_sigmoid(output)\n",
    "d_output = EO * outgrad\n",
    "EH = d_output.dot(weight_hidden.T)\n",
    "hiddengrad=derivatives_sigmoid(hlayer_activation)\n",
    "d_hiddenlayer = EH * hiddengrad\n",
    "\n",
    "weight_hidden += hlayer_activation.T.dot(d_output) * lr\n",
    "bias_hidden += np.sum(d_hiddenlayer, axis=0,keepdims=True) * lr\n",
    "wh += X.T.dot(d_hiddenlayer) * lr\n",
    "bias_output += np.sum(d_output,axis=0,keepdims=True) *lr\n",
    "\n",
    "print(\"Input: \\n\"+str(X))\n",
    "print(\"Actual Output: \\n\"+str(y))\n",
    "print(\"Predicted Output: \\n\",output)\n"
   ]
  },
  {
   "cell_type": "code",
   "execution_count": null,
   "id": "e270c801-5e35-4977-83ab-8ca54819b909",
   "metadata": {},
   "outputs": [],
   "source": []
  }
 ],
 "metadata": {
  "kernelspec": {
   "display_name": "Python [conda env:base] *",
   "language": "python",
   "name": "conda-base-py"
  },
  "language_info": {
   "codemirror_mode": {
    "name": "ipython",
    "version": 3
   },
   "file_extension": ".py",
   "mimetype": "text/x-python",
   "name": "python",
   "nbconvert_exporter": "python",
   "pygments_lexer": "ipython3",
   "version": "3.12.7"
  }
 },
 "nbformat": 4,
 "nbformat_minor": 5
}
