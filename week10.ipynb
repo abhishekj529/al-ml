{
 "cells": [
  {
   "cell_type": "code",
   "execution_count": 2,
   "id": "2b27e7ca-f76d-4d35-a40f-ae4f31b7a758",
   "metadata": {},
   "outputs": [],
   "source": [
    "from sklearn.model_selection import train_test_split\n",
    "from sklearn.neighbors import KNeighborsClassifier\n",
    "from sklearn import datasets\n",
    "import pandas as pd\n",
    "import numpy as np"
   ]
  },
  {
   "cell_type": "code",
   "execution_count": 4,
   "id": "595c1e54-cfd1-47ae-9047-2f73c0025313",
   "metadata": {
    "scrolled": true
   },
   "outputs": [
    {
     "name": "stdout",
     "output_type": "stream",
     "text": [
      "     Sepal_Length  Sepal_width  Petal_Length  Petal_Width\n",
      "0             5.1          3.5           1.4          0.2\n",
      "1             4.9          3.0           1.4          0.2\n",
      "2             4.7          3.2           1.3          0.2\n",
      "3             4.6          3.1           1.5          0.2\n",
      "4             5.0          3.6           1.4          0.2\n",
      "..            ...          ...           ...          ...\n",
      "145           6.7          3.0           5.2          2.3\n",
      "146           6.3          2.5           5.0          1.9\n",
      "147           6.5          3.0           5.2          2.0\n",
      "148           6.2          3.4           5.4          2.3\n",
      "149           5.9          3.0           5.1          1.8\n",
      "\n",
      "[150 rows x 4 columns]\n"
     ]
    }
   ],
   "source": [
    "iris = datasets.load_iris()\n",
    "X =pd.DataFrame(iris.data)\n",
    "X.columns =['Sepal_Length','Sepal_width','Petal_Length','Petal_Width']\n",
    "print(X)"
   ]
  },
  {
   "cell_type": "code",
   "execution_count": 6,
   "id": "256169ac-dcbb-45e9-b82a-ef21d5baeeb4",
   "metadata": {},
   "outputs": [
    {
     "name": "stdout",
     "output_type": "stream",
     "text": [
      "     Targets\n",
      "0          0\n",
      "1          0\n",
      "2          0\n",
      "3          0\n",
      "4          0\n",
      "..       ...\n",
      "145        2\n",
      "146        2\n",
      "147        2\n",
      "148        2\n",
      "149        2\n",
      "\n",
      "[150 rows x 1 columns]\n"
     ]
    }
   ],
   "source": [
    "y =pd.DataFrame(iris.target)\n",
    "y.columns=['Targets']\n",
    "print(y)"
   ]
  },
  {
   "cell_type": "code",
   "execution_count": 10,
   "id": "a6dedc5d-ff49-4939-af69-5f16ab719e7f",
   "metadata": {
    "scrolled": true
   },
   "outputs": [
    {
     "name": "stdout",
     "output_type": "stream",
     "text": [
      "Dataset is split into training and testing....\n",
      "Size of training data and its label (135, 4) (135,)\n",
      "Size of testing data and its label (15, 4) (15,)\n"
     ]
    }
   ],
   "source": [
    "x_train,x_test,y_train,y_test =train_test_split(iris.data,iris.target,test_size=0.1)\n",
    "print(\"Dataset is split into training and testing....\")\n",
    "print(\"Size of training data and its label\",x_train.shape,y_train.shape)\n",
    "print(\"Size of testing data and its label\",x_test.shape,y_test.shape)"
   ]
  },
  {
   "cell_type": "code",
   "execution_count": 11,
   "id": "2e29f588-ba99-41f1-b6f5-0829abf7b250",
   "metadata": {},
   "outputs": [
    {
     "name": "stdout",
     "output_type": "stream",
     "text": [
      "Label 0 - setosa\n",
      "Label 1 - versicolor\n",
      "Label 2 - virginica\n"
     ]
    }
   ],
   "source": [
    "for i in range(len(iris.target_names)):\n",
    "    print(\"Label\",i,\"-\",str(iris.target_names[i]))"
   ]
  },
  {
   "cell_type": "code",
   "execution_count": 15,
   "id": "286fa525-1e36-44dd-9e1e-58bf973f8126",
   "metadata": {},
   "outputs": [],
   "source": [
    "classifer =KNeighborsClassifier(n_neighbors=3)"
   ]
  },
  {
   "cell_type": "code",
   "execution_count": 16,
   "id": "1dea5824-97cd-4e22-880a-441ff991e1cd",
   "metadata": {},
   "outputs": [],
   "source": [
    "classifer.fit(x_train,y_train)\n",
    "y_pred=classifer.predict(x_test)"
   ]
  },
  {
   "cell_type": "code",
   "execution_count": 17,
   "id": "a6335373-6bc6-46c6-ad7c-e5b677d0f1c5",
   "metadata": {},
   "outputs": [
    {
     "name": "stdout",
     "output_type": "stream",
     "text": [
      "Results of Classification using K-nn with K=3\n",
      "Sample: [5.5 2.5 4.  1.3] Actual-label: 1 predict-label: 1\n",
      "Classification accuracy: 1.0\n",
      "Sample: [5.9 3.  5.1 1.8] Actual-label: 2 predict-label: 2\n",
      "Classification accuracy: 1.0\n",
      "Sample: [7.4 2.8 6.1 1.9] Actual-label: 2 predict-label: 2\n",
      "Classification accuracy: 1.0\n",
      "Sample: [5.1 3.8 1.5 0.3] Actual-label: 0 predict-label: 0\n",
      "Classification accuracy: 1.0\n",
      "Sample: [7.7 3.  6.1 2.3] Actual-label: 2 predict-label: 2\n",
      "Classification accuracy: 1.0\n",
      "Sample: [5.6 2.7 4.2 1.3] Actual-label: 1 predict-label: 1\n",
      "Classification accuracy: 1.0\n",
      "Sample: [5.5 2.4 3.7 1. ] Actual-label: 1 predict-label: 1\n",
      "Classification accuracy: 1.0\n",
      "Sample: [6.1 2.8 4.  1.3] Actual-label: 1 predict-label: 1\n",
      "Classification accuracy: 1.0\n",
      "Sample: [6.3 3.3 6.  2.5] Actual-label: 2 predict-label: 2\n",
      "Classification accuracy: 1.0\n",
      "Sample: [6.3 3.4 5.6 2.4] Actual-label: 2 predict-label: 2\n",
      "Classification accuracy: 1.0\n",
      "Sample: [5.8 4.  1.2 0.2] Actual-label: 0 predict-label: 0\n",
      "Classification accuracy: 1.0\n",
      "Sample: [6.2 2.2 4.5 1.5] Actual-label: 1 predict-label: 1\n",
      "Classification accuracy: 1.0\n",
      "Sample: [5.1 3.3 1.7 0.5] Actual-label: 0 predict-label: 0\n",
      "Classification accuracy: 1.0\n",
      "Sample: [6.7 3.3 5.7 2.5] Actual-label: 2 predict-label: 2\n",
      "Classification accuracy: 1.0\n",
      "Sample: [5.2 3.4 1.4 0.2] Actual-label: 0 predict-label: 0\n",
      "Classification accuracy: 1.0\n"
     ]
    }
   ],
   "source": [
    "print(\"Results of Classification using K-nn with K=3\")\n",
    "for r in range(0,len(x_test)):\n",
    "    print(\"Sample:\", str(x_test[r]), \"Actual-label:\",str(y_test[r]),\"predict-label:\",str(y_pred[r]))\n",
    "    print(\"Classification accuracy:\",classifer.score(x_test,y_test))"
   ]
  },
  {
   "cell_type": "code",
   "execution_count": 19,
   "id": "8637c7c4-3ff3-43a9-a43b-0300c5d64b18",
   "metadata": {},
   "outputs": [
    {
     "name": "stdout",
     "output_type": "stream",
     "text": [
      "Confusion Matrix\n",
      "[[4 0 0]\n",
      " [0 5 0]\n",
      " [0 0 6]]\n",
      "Accuracy ketrics\n",
      "              precision    recall  f1-score   support\n",
      "\n",
      "           0       1.00      1.00      1.00         4\n",
      "           1       1.00      1.00      1.00         5\n",
      "           2       1.00      1.00      1.00         6\n",
      "\n",
      "    accuracy                           1.00        15\n",
      "   macro avg       1.00      1.00      1.00        15\n",
      "weighted avg       1.00      1.00      1.00        15\n",
      "\n"
     ]
    }
   ],
   "source": [
    "from sklearn.metrics import classification_report,confusion_matrix\n",
    "print('Confusion Matrix')\n",
    "print(confusion_matrix(y_test,y_pred))\n",
    "print('Accuracy ketrics')\n",
    "print(classification_report(y_test,y_pred))"
   ]
  },
  {
   "cell_type": "code",
   "execution_count": null,
   "id": "4329b5b9-d6ca-4704-bfcb-0f7713669a1d",
   "metadata": {},
   "outputs": [],
   "source": []
  }
 ],
 "metadata": {
  "kernelspec": {
   "display_name": "Python [conda env:base] *",
   "language": "python",
   "name": "conda-base-py"
  },
  "language_info": {
   "codemirror_mode": {
    "name": "ipython",
    "version": 3
   },
   "file_extension": ".py",
   "mimetype": "text/x-python",
   "name": "python",
   "nbconvert_exporter": "python",
   "pygments_lexer": "ipython3",
   "version": "3.12.7"
  }
 },
 "nbformat": 4,
 "nbformat_minor": 5
}
